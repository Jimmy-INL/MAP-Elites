{
 "cells": [
  {
   "cell_type": "code",
   "execution_count": 93,
   "metadata": {},
   "outputs": [],
   "source": [
    "#!/usr/bin/env python\n",
    "\n",
    "import os\n",
    "import argparse\n",
    "import functions\n",
    "import itertools\n",
    "\n",
    "from pathlib import Path\n",
    "import numpy as np"
   ]
  },
  {
   "cell_type": "code",
   "execution_count": 3,
   "metadata": {},
   "outputs": [],
   "source": [
    "def listdir_nohidden(path):\n",
    "    for f in os.listdir(path):\n",
    "        if not f.startswith('.'):\n",
    "            yield f"
   ]
  },
  {
   "cell_type": "code",
   "execution_count": 124,
   "metadata": {},
   "outputs": [],
   "source": [
    "def print_table(results):\n",
    "    print(\"Function &Best &Worst &Median &$c$ &$\\\\bar\\{v\\}$ &Mean &Std\\\\\\\\\")\n",
    "    print(\"\\\\midrule\")\n",
    "    for k, v in results.items():\n",
    "        print(\"{0} &{1:.2f}({2}) &{3:.2f}({4}) &{5:.2f}({6}) &{7} &{8} &{9:.2f} &{10:.2f}\\\\\\\\\".format(k, \n",
    "                                                                                         v['best_perf'], \n",
    "                                                                                         v['best_consts'], \n",
    "                                                                                         v['worst_perf'], \n",
    "                                                                                         v['worst_consts'], \n",
    "                                                                                         v['median_perf'],\n",
    "                                                                                         v['median_consts'],\n",
    "                                                                                         tuple(v['c']),\n",
    "                                                                                         v['v'],\n",
    "                                                                                         v['mean'],\n",
    "                                                                                         v['std']\n",
    "                                                                                         ))\n",
    "\n",
    "def print_table_rev(results):\n",
    "    key_order = [(\"best_perf\", \"Best\"), (\"worst_perf\", \"Worst\"), (\"median_perf\", \"Median\"), (\"c\", \"$c$\"), (\"v\", \"$\\\\bar{v}$\"), (\"mean\", \"Mean\"), (\"std\", \"Std\"), (\"f_rate\", \"F Rate\")]\n",
    "    print(\"\\\\begin{tabular}{c|cccc}\")\n",
    "    print(\"\\\\toprule\")\n",
    "    print(\"&\" + \"&\".join(results.keys()) + \"\\\\\\\\\")\n",
    "    print(\"\\\\midrule\")\n",
    "    for k, n in key_order:\n",
    "        if k == \"best_perf\":\n",
    "            to_print = [f\"{h[0]}({h[1]})\" for h in list(zip([str(d[\"best_perf\"]) for d in results.values()], [str(d[\"best_consts\"]) for d in results.values()]))]\n",
    "            print(n + \"&\" + \"&\".join(to_print) + \"\\\\\\\\\")\n",
    "        elif k == \"worst_perf\":\n",
    "            to_print = [f\"{h[0]}({h[1]})\" for h in list(zip([str(d[\"worst_perf\"]) for d in results.values()], [str(d[\"worst_consts\"]) for d in results.values()]))]\n",
    "            print(n + \"&\" + \"&\".join(to_print) + \"\\\\\\\\\")\n",
    "        else:\n",
    "            print(n + \"&\" + \"&\".join([str(d[k]) for d in results.values()]) + \"\\\\\\\\\")\n",
    "    print(\"\\\\bottomrule\")\n",
    "    print(\"\\\\end{tabular}\")"
   ]
  },
  {
   "cell_type": "code",
   "execution_count": 125,
   "metadata": {},
   "outputs": [
    {
     "name": "stdout",
     "output_type": "stream",
     "text": [
      "\\begin{tabular}{c|cccc}\n",
      "\\toprule\n",
      "&C02&C07&C16\\\\\n",
      "\\midrule\n",
      "Best&-1.31(2)&806747822158.33(1)&0.2(4)\\\\\n",
      "Worst&0.53(2)&1901652960910.67(1)&0.76(4)\\\\\n",
      "Median&-0.07&2137704035756.35&0.83\\\\\n",
      "$c$&[0, 0, 2]&[0, 1, 0]&[0, 1, 0]\\\\\n",
      "$\\bar{v}$&0.62&0.27&0.02\\\\\n",
      "Mean&-0.58&1348456144627.07&0.46\\\\\n",
      "Std&0.77&439718581396.85&0.2\\\\\n",
      "F Rate&0.0&1.0&0.0\\\\\n",
      "\\bottomrule\n",
      "\\end{tabular}\n"
     ]
    }
   ],
   "source": [
    "print_table_rev(results)"
   ]
  },
  {
   "cell_type": "code",
   "execution_count": 121,
   "metadata": {},
   "outputs": [
    {
     "name": "stdout",
     "output_type": "stream",
     "text": [
      "-7.275083534143391\n",
      "0.26701316889679694\n",
      "-321.73849777954626\n"
     ]
    }
   ],
   "source": [
    "dimensions = 10\n",
    "logdir_path = 'log'\n",
    "logdir = Path(logdir_path)\n",
    "results = dict()\n",
    "for c in sorted(listdir_nohidden(logdir)):\n",
    "    runs = len(list(listdir_nohidden(logdir / c)))\n",
    "    best_list = list()\n",
    "    idx_best_list = list()\n",
    "    performances = np.array([])\n",
    "    \n",
    "    function_class = getattr(functions, c)\n",
    "    function_obj = function_class(dimensions=dimensions)\n",
    "    \n",
    "    # feasibility rate\n",
    "    fes = 0\n",
    "    for r in listdir_nohidden(logdir / c):\n",
    "        s = np.load(logdir / c/ r / \"solutions.npy\")\n",
    "        p = np.load(logdir / c / r / \"performances.npy\")\n",
    "        if len(performances) == 0:\n",
    "            performances = np.array([p])\n",
    "            solutions = np.array([s])\n",
    "        else:\n",
    "            performances = np.concatenate([performances, [p]], axis=0)\n",
    "            solutions = np.concatenate([solutions, [s]], axis=0)\n",
    "        \n",
    "        # take best of this run\n",
    "        idx_best = np.unravel_index(np.nanargmin(p), p.shape)\n",
    "        idx_best_list.append(idx_best)\n",
    "        best_list.append(p[idx_best])\n",
    "        \n",
    "        feasible_solution = False\n",
    "        # check if there is at least one feasible solution in this run to compute the feasible rate\n",
    "        # get all positions where there might be feasible solutions (0 for g and 0/1 for h constraints)\n",
    "        consts = list(function_class.constraints(None).keys())\n",
    "        combinations = list(map(list, itertools.product([0, 1], repeat=len(consts))))\n",
    "        for i, comb in enumerate(combinations):\n",
    "            for const, (k, item) in zip(consts, enumerate(comb)):\n",
    "                if const.startswith('g'):\n",
    "                    combinations[i][k] = 0\n",
    "        # remove duplicates\n",
    "        combinations.sort()\n",
    "        feasible_indexes = list(l for l,_ in itertools.groupby(combinations))\n",
    "        for f_idx in feasible_indexes:\n",
    "            if p[tuple(f_idx)] != np.inf:\n",
    "                feasible_solution = True\n",
    "        if feasible_solution:\n",
    "            fes += 1\n",
    "        \n",
    "    performances[performances == np.inf] = np.nan\n",
    "\n",
    "    # get the indexes over the entire data structure, because we need to know which constraints were violated\n",
    "    best = np.min(best_list)\n",
    "    idx_best =  np.unravel_index(np.where(performances.flatten() == best)[0][0], performances.shape)\n",
    "    worst = np.max(best_list)\n",
    "    idx_worst = np.unravel_index(np.where(performances.flatten() == worst)[0][0], performances.shape)\n",
    "    idx_median = np.unravel_index(\n",
    "        np.where(performances.flatten() == np.nanpercentile(performances,50,interpolation='nearest'))[0][0], \n",
    "        performances.shape\n",
    "    )\n",
    "    median = performances[idx_median]\n",
    "    \n",
    "    mean = np.mean(best_list)\n",
    "    std = np.std(best_list)\n",
    "    \n",
    "    # compute # of violated constraints\n",
    "    consts_best = 0\n",
    "    consts_worst = 0\n",
    "    consts_median = 0\n",
    "    consts_median_specific = [0, 0, 0]\n",
    "    mean_violations = list()\n",
    "    print(function_obj.constraints()['g1']['func'](solutions[idx_median]))\n",
    "    for k, cost in enumerate(list(function_class.constraints(None).keys())):\n",
    "        if cost.startswith('g'):\n",
    "            if idx_best[k+1] > 0:\n",
    "                consts_best += 1\n",
    "            if idx_worst[k+1] > 0:\n",
    "                consts_worst += 1\n",
    "            if idx_median[k+1] > 0:\n",
    "                consts_median += 1\n",
    "                # add constraint violation to mean_violations\n",
    "                mean_violations.append(function_obj.constraints()[cost]['func'](solutions[idx_median]))\n",
    "                \n",
    "        if cost.startswith('h'):\n",
    "            if idx_best[k+1] > 1:\n",
    "                consts_best += 1\n",
    "            if idx_worst[k+1] > 1:\n",
    "                consts_worst += 1\n",
    "            if idx_median[k+1] > 1:\n",
    "                consts_median += 1\n",
    "                # add constraint violation to mean_violations\n",
    "                mean_violations.append(function_obj.constraints()[cost]['func'](solutions[idx_median]))\n",
    "                \n",
    "        # violation > 0.0001\n",
    "        if idx_median[k+1] == 1:\n",
    "            consts_median_specific[0] += 1\n",
    "        # violation > 0.01\n",
    "        if idx_median[k+1] == 2:\n",
    "            consts_median_specific[1] += 1\n",
    "        # violation > 1.0\n",
    "        if idx_median[k+1] == 3:\n",
    "            consts_median_specific[2] += 1\n",
    "    \n",
    "    results[c] = {\n",
    "        \"best_perf\": round(best, 2),\n",
    "        \"best_consts\": consts_best,\n",
    "        \"worst_perf\": round(worst, 2),\n",
    "        \"worst_consts\": consts_worst,\n",
    "        \"median_perf\": round(median, 2),\n",
    "        \"median_consts\": consts_median,\n",
    "        \"mean\": round(mean, 2),\n",
    "        \"std\": round(std, 2),\n",
    "        \"c\": consts_median_specific,\n",
    "        \"v\": round(np.mean(mean_violations), 2),\n",
    "        \"f_rate\": round(fes / runs, 2)\n",
    "    }"
   ]
  },
  {
   "cell_type": "code",
   "execution_count": 56,
   "metadata": {},
   "outputs": [
    {
     "data": {
      "text/plain": [
       "{'C02': {'best_perf': -1.3137978363047342,\n",
       "  'best_consts': 2,\n",
       "  'worst_perf': 0.5341026251210685,\n",
       "  'worst_consts': 2,\n",
       "  'median_perf': -0.07113054972949473,\n",
       "  'median_consts': 2,\n",
       "  'mean': -0.5798541146470372,\n",
       "  'std': 0.7685194179340749,\n",
       "  'c': [0, 0, 2],\n",
       "  'v': 0.617334728147032,\n",
       "  'fes': 0.0},\n",
       " 'C07': {'best_perf': 806747822158.3284,\n",
       "  'best_consts': 1,\n",
       "  'worst_perf': 1901652960910.673,\n",
       "  'worst_consts': 1,\n",
       "  'median_perf': 2137704035756.3484,\n",
       "  'median_consts': 1,\n",
       "  'mean': 1348456144627.071,\n",
       "  'std': 439718581396.8514,\n",
       "  'c': [0, 1, 0],\n",
       "  'v': 0.26701316889679694,\n",
       "  'fes': 1.0},\n",
       " 'C16': {'best_perf': 0.20265941752760153,\n",
       "  'best_consts': 4,\n",
       "  'worst_perf': 0.7566082910595568,\n",
       "  'worst_consts': 4,\n",
       "  'median_perf': 0.8277172635715928,\n",
       "  'median_consts': 3,\n",
       "  'mean': 0.46352070828300296,\n",
       "  'std': 0.19697780630268433,\n",
       "  'c': [0, 1, 0],\n",
       "  'v': 0.018416431861031295,\n",
       "  'fes': 0.0}}"
      ]
     },
     "execution_count": 56,
     "metadata": {},
     "output_type": "execute_result"
    }
   ],
   "source": [
    "results"
   ]
  },
  {
   "cell_type": "code",
   "execution_count": 57,
   "metadata": {},
   "outputs": [
    {
     "name": "stdout",
     "output_type": "stream",
     "text": [
      "Function &Best &Worst &Median &$c$ &$\\bar\\{v\\}$ &Mean &Std\\\\\n",
      "\\midrule\n",
      "C02 &-1.31(2) &0.53(2) &-0.07(2) &(0, 0, 2) &0.617334728147032 &-0.58 &0.77\\\\\n",
      "C07 &806747822158.33(1) &1901652960910.67(1) &2137704035756.35(1) &(0, 1, 0) &0.26701316889679694 &1348456144627.07 &439718581396.85\\\\\n",
      "C16 &0.20(4) &0.76(4) &0.83(3) &(0, 1, 0) &0.018416431861031295 &0.46 &0.20\\\\\n"
     ]
    }
   ],
   "source": [
    "print_table(results)"
   ]
  },
  {
   "cell_type": "code",
   "execution_count": null,
   "metadata": {},
   "outputs": [],
   "source": []
  }
 ],
 "metadata": {
  "kernelspec": {
   "display_name": "Python 3",
   "language": "python",
   "name": "python3"
  },
  "language_info": {
   "codemirror_mode": {
    "name": "ipython",
    "version": 3
   },
   "file_extension": ".py",
   "mimetype": "text/x-python",
   "name": "python",
   "nbconvert_exporter": "python",
   "pygments_lexer": "ipython3",
   "version": "3.6.5"
  }
 },
 "nbformat": 4,
 "nbformat_minor": 2
}
