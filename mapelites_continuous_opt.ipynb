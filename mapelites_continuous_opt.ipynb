{
 "cells": [
  {
   "cell_type": "code",
   "execution_count": 1,
   "metadata": {},
   "outputs": [],
   "source": [
    "import logging\n",
    "import configparser\n",
    "import numpy as np\n",
    "\n",
    "from functools import reduce\n",
    "import operator\n",
    "\n",
    "from map_elites.mapelites import MapElites, FeatureDimension\n",
    "from functions import Rosenbrok\n",
    "\n",
    "logging.basicConfig(filename=\"log.log\", level=logging.INFO)\n",
    "# this should set the seed project wide\n",
    "np.random.seed(1)\n",
    "config = configparser.ConfigParser()"
   ]
  },
  {
   "cell_type": "code",
   "execution_count": 2,
   "metadata": {},
   "outputs": [],
   "source": [
    "class MapElitesContinuousOpt(MapElites):\n",
    "\n",
    "    def __init__(self, *args, **kwargs):\n",
    "        super(MapElitesContinuousOpt, self).__init__(*args, **kwargs)\n",
    "\n",
    "    def map_x_to_b(self, x):\n",
    "        \"\"\"\n",
    "        Map X solution to feature space dimension, meaning:\n",
    "            - apply the constraints to a solution\n",
    "        :return: tuple of indexes\n",
    "        \"\"\"\n",
    "        b = tuple()\n",
    "        for ft in self.feature_dimensions:\n",
    "            desc = ft.feature_descriptor(x)\n",
    "            i = ft.discretize(desc)\n",
    "            b = b + (i,)\n",
    "\n",
    "        return b\n",
    "\n",
    "    def performance_measure(self, x):\n",
    "        \"\"\"\n",
    "        Apply the fitness continuous function to x\n",
    "        \"\"\"\n",
    "        logging.info(\"calculate performance measure\")\n",
    "        return Rosenbrok.evaluate(x)\n",
    "\n",
    "    # TODO: Ask the professor about this\n",
    "    def generate_random_solution(self):\n",
    "        \"\"\"\n",
    "        To ease the bootstrap of the algorithm, we can generate\n",
    "        the first solutions in the feature space, so that we start\n",
    "        filling the bins\n",
    "        :return:\n",
    "        \"\"\"\n",
    "        logging.info(\"Generate random solution\")\n",
    "        # Number of possible locations in the N-dimentional feature space\n",
    "        dims = reduce(operator.mul, [len(ft.bins) - 1 for ft in self.feature_dimensions])\n",
    "\n",
    "        # TODO: For the moment we are just generating samples in the input space\n",
    "        # We do not know how to generate them in the feature space\n",
    "\n",
    "        dimensions = 2\n",
    "        random_sample = np.random.uniform(-10, 10, dimensions)\n",
    "        return random_sample\n",
    "\n",
    "    def generate_feature_dimensions(self):\n",
    "        rosenbrok_const = Rosenbrok.constraints()\n",
    "\n",
    "        cubic_bins = [-np.inf, 0.0, 4.0, 6.0, 8.0, 10.0, np.inf]\n",
    "        cubic = FeatureDimension(\"cubic_function\", rosenbrok_const['cubic']['fun'], cubic_bins)\n",
    "\n",
    "        line_bins = [-np.inf, 0.0, 4.0, 6.0, 8.0, 10.0, np.inf]\n",
    "        line = FeatureDimension(\"line_function\", rosenbrok_const['line']['fun'], line_bins)\n",
    "\n",
    "        return [cubic, line]"
   ]
  },
  {
   "cell_type": "code",
   "execution_count": 3,
   "metadata": {},
   "outputs": [
    {
     "name": "stderr",
     "output_type": "stream",
     "text": [
      "Iterations completed: 100%|██████████| 10000/10000 [00:10<00:00, 931.48it/s]\n"
     ]
    },
    {
     "data": {
      "image/png": "[encoded data removed]",
      "text/plain": [
       "<Figure size 432x288 with 2 Axes>"
      ]
     },
     "metadata": {
      "needs_background": "light"
     },
     "output_type": "display_data"
    }
   ],
   "source": [
    "# read configuration file\n",
    "config.read('config.ini')\n",
    "\n",
    "logging.info(\"Start map elites\")\n",
    "map_E = MapElitesContinuousOpt.from_config(MapElitesContinuousOpt, config)\n",
    "map_E.run()\n"
   ]
  },
  {
   "cell_type": "code",
   "execution_count": null,
   "metadata": {},
   "outputs": [],
   "source": []
  }
 ],
 "metadata": {
  "kernelspec": {
   "display_name": "Python 3",
   "language": "python",
   "name": "python3"
  },
  "language_info": {
   "codemirror_mode": {
    "name": "ipython",
    "version": 3
   },
   "file_extension": ".py",
   "mimetype": "text/x-python",
   "name": "python",
   "nbconvert_exporter": "python",
   "pygments_lexer": "ipython3",
   "version": "3.6.5"
  }
 },
 "nbformat": 4,
 "nbformat_minor": 2
}
