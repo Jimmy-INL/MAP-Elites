{
 "cells": [
  {
   "cell_type": "code",
   "execution_count": 1,
   "metadata": {},
   "outputs": [],
   "source": [
    "import logging\n",
    "import numpy as np\n",
    "\n",
    "from map_elites.mapelites import MapElites, FeatureDimension\n",
    "\n",
    "logging.basicConfig(filename=\"log.log\", level=logging.INFO)"
   ]
  },
  {
   "cell_type": "code",
   "execution_count": 2,
   "metadata": {},
   "outputs": [],
   "source": [
    "class MapElitesContinuousOpt(MapElites):\n",
    "\n",
    "    def __init__(self, *args, **kwargs):\n",
    "        super(MapElitesContinuousOpt, self).__init__(*args, **kwargs)\n",
    "\n",
    "    def map_x_to_b(self, x):\n",
    "        \"\"\"\n",
    "        Map X solution to feature space dimension, meaning:\n",
    "            - apply the constraints to a solution\n",
    "        :return: tuple of indexes\n",
    "        \"\"\"\n",
    "        b = tuple()\n",
    "        for ft in self.feature_dimensions:\n",
    "            desc = ft.feature_descriptor(x)\n",
    "            i = ft.discretize(desc)\n",
    "            b = b + (i,)\n",
    "\n",
    "        return b\n",
    "\n",
    "    def performance_measure(self, x):\n",
    "        \"\"\"\n",
    "        Apply the fitness continuous function to x\n",
    "        \"\"\"\n",
    "        logging.info(\"calculate performance measure\")\n",
    "        return self.F.evaluate(x)\n",
    "\n",
    "    def generate_random_solution(self):\n",
    "        \"\"\"\n",
    "        To ease the bootstrap of the algorithm, we can generate\n",
    "        the first solutions in the feature space, so that we start\n",
    "        filling the bins\n",
    "        \"\"\"\n",
    "        logging.info(\"Generate random solution\")\n",
    "\n",
    "        dimensions = self.F.get_domain()\n",
    "        return np.array([\n",
    "            np.random.uniform(d[0], d[1], 1)[0] for d in dimensions\n",
    "        ])\n",
    "\n",
    "    def generate_feature_dimensions(self):\n",
    "\n",
    "        # means the user is using contsraint-specific bins\n",
    "        if 'bin_all' not in self.bins:\n",
    "            n_constr = len(self.F.constraints().items())\n",
    "            if len(self.bins.items()) != n_constr:\n",
    "                raise ValueError(f\"You need to define {n_constr} constraints for constrained function {self.F.__class__.__name__}\")\n",
    "\n",
    "            # check all the defined constraints match the function constraints names\n",
    "            for k, v in self.bins.items():\n",
    "                cst_name = k.split('_')[1]\n",
    "                if cst_name not in self.F.constraints().keys():\n",
    "                    raise ValueError(f\"Constraint {cst_name} was not found in function {self.F.__class__.__name__}\")\n",
    "\n",
    "        fts = list()\n",
    "        for k, v in self.F.constraints().items():\n",
    "            bin_key = f\"bin_{v['name']}\"\n",
    "            b = self.bins[bin_key] if bin_key in self.bins else self.bins['bin_all']\n",
    "            ft = FeatureDimension(name=v['name'],\n",
    "                                  feature_function_target=v['target'],\n",
    "                                  feature_function_call=v['func'],\n",
    "                                  feature_function_operator=v['op'],\n",
    "                                  bins=b)\n",
    "            fts.append(ft)\n",
    "        return fts"
   ]
  },
  {
   "cell_type": "code",
   "execution_count": 3,
   "metadata": {},
   "outputs": [
    {
     "name": "stderr",
     "output_type": "stream",
     "text": [
      "Iterations completed: 100%|██████████| 10000/10000 [00:10<00:00, 922.86it/s]\n"
     ]
    },
    {
     "data": {
      "image/png": "[encoded data removed]",
      "text/plain": [
       "<Figure size 720x720 with 2 Axes>"
      ]
     },
     "metadata": {
      "needs_background": "light"
     },
     "output_type": "display_data"
    }
   ],
   "source": [
    "# path to configuration file\n",
    "config_path = 'config.ini'\n",
    "logging.info(\"Start map elites\")\n",
    "map_E = MapElitesContinuousOpt.from_config(config_path)\n",
    "map_E.run()"
   ]
  },
  {
   "cell_type": "code",
   "execution_count": null,
   "metadata": {},
   "outputs": [],
   "source": []
  }
 ],
 "metadata": {
  "kernelspec": {
   "display_name": "Python 3",
   "language": "python",
   "name": "python3"
  },
  "language_info": {
   "codemirror_mode": {
    "name": "ipython",
    "version": 3
   },
   "file_extension": ".py",
   "mimetype": "text/x-python",
   "name": "python",
   "nbconvert_exporter": "python",
   "pygments_lexer": "ipython3",
   "version": "3.6.5"
  }
 },
 "nbformat": 4,
 "nbformat_minor": 2
}
